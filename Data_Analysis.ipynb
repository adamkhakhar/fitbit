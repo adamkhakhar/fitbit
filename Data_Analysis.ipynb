{
 "cells": [
  {
   "cell_type": "code",
   "execution_count": 1,
   "id": "7ecf0203",
   "metadata": {},
   "outputs": [
    {
     "data": {
      "application/javascript": [
       "\n",
       "IPython.OutputArea.prototype._should_scroll = function(lines) {\n",
       "    return false;\n",
       "}\n"
      ],
      "text/plain": [
       "<IPython.core.display.Javascript object>"
      ]
     },
     "metadata": {},
     "output_type": "display_data"
    },
    {
     "data": {
      "text/html": [
       "<style>.container { width:100% !important; }</style>"
      ],
      "text/plain": [
       "<IPython.core.display.HTML object>"
      ]
     },
     "metadata": {},
     "output_type": "display_data"
    }
   ],
   "source": [
    "from IPython.display import display, Javascript\n",
    "\n",
    "# Disable scrolling in output cells\n",
    "display(\n",
    "    Javascript(\n",
    "        \"\"\"\n",
    "IPython.OutputArea.prototype._should_scroll = function(lines) {\n",
    "    return false;\n",
    "}\n",
    "\"\"\"\n",
    "    )\n",
    ")\n",
    "from IPython.display import display, HTML\n",
    "\n",
    "display(HTML(\"<style>.container { width:100% !important; }</style>\"))\n",
    "# Set background color to black and text color to white\n",
    "%matplotlib inline\n",
    "%config InlineBackend.figure_format = 'retina'\n",
    "import matplotlib.pyplot as plt\n",
    "\n",
    "# Import warnings module\n",
    "import warnings\n",
    "\n",
    "# Ignore all pandas warnings\n",
    "warnings.filterwarnings(\"ignore\", category=UserWarning)\n"
   ]
  },
  {
   "cell_type": "code",
   "execution_count": 2,
   "id": "18a26f99",
   "metadata": {},
   "outputs": [],
   "source": [
    "from typing import List\n",
    "import os\n",
    "import pandas as pd\n",
    "import numpy as np\n",
    "import time\n",
    "import seaborn as sns\n",
    "import datetime"
   ]
  },
  {
   "cell_type": "code",
   "execution_count": 3,
   "id": "bd2381ee",
   "metadata": {
    "scrolled": true
   },
   "outputs": [
    {
     "data": {
      "text/html": [
       "<div>\n",
       "<style scoped>\n",
       "    .dataframe tbody tr th:only-of-type {\n",
       "        vertical-align: middle;\n",
       "    }\n",
       "\n",
       "    .dataframe tbody tr th {\n",
       "        vertical-align: top;\n",
       "    }\n",
       "\n",
       "    .dataframe thead th {\n",
       "        text-align: right;\n",
       "    }\n",
       "</style>\n",
       "<table border=\"1\" class=\"dataframe\">\n",
       "  <thead>\n",
       "    <tr style=\"text-align: right;\">\n",
       "      <th></th>\n",
       "      <th>MaxHourMinIntensity_t-2</th>\n",
       "      <th>SumMinIntensity_t-2</th>\n",
       "      <th>SumMinIntensityTop2Hr_t-2</th>\n",
       "      <th>MaxHourSteps_t-2</th>\n",
       "      <th>SumSteps_t-2</th>\n",
       "      <th>SumStepsTop2Hr_t-2</th>\n",
       "      <th>WeightPounds_t-2</th>\n",
       "      <th>Fat_t-2</th>\n",
       "      <th>BMI_t-2</th>\n",
       "      <th>AvgTotalSteps_t-2</th>\n",
       "      <th>...</th>\n",
       "      <th>AvgValue_t-1</th>\n",
       "      <th>SumValue_t-1</th>\n",
       "      <th>AvgStepTotal_t-1</th>\n",
       "      <th>SumStepTotal_t-1</th>\n",
       "      <th>AvgTotalIntensity_t-1</th>\n",
       "      <th>SumTotalIntensity_t-1</th>\n",
       "      <th>AvgAverageIntensity_t-1</th>\n",
       "      <th>SumAverageIntensity_t-1</th>\n",
       "      <th>VeryActiveMinutes_t-1</th>\n",
       "      <th>VeryActiveMinutes</th>\n",
       "    </tr>\n",
       "  </thead>\n",
       "  <tbody>\n",
       "    <tr>\n",
       "      <th>0</th>\n",
       "      <td>0.0</td>\n",
       "      <td>0.0</td>\n",
       "      <td>0.0</td>\n",
       "      <td>143.0</td>\n",
       "      <td>13158.0</td>\n",
       "      <td>283.0</td>\n",
       "      <td>115.963147</td>\n",
       "      <td>22.0</td>\n",
       "      <td>22.650000</td>\n",
       "      <td>22.650000</td>\n",
       "      <td>...</td>\n",
       "      <td>22.650000</td>\n",
       "      <td>35424.599403</td>\n",
       "      <td>22.650000</td>\n",
       "      <td>35424.599403</td>\n",
       "      <td>22.650000</td>\n",
       "      <td>35424.599403</td>\n",
       "      <td>22.650000</td>\n",
       "      <td>35424.599403</td>\n",
       "      <td>21.0</td>\n",
       "      <td>30.0</td>\n",
       "    </tr>\n",
       "    <tr>\n",
       "      <th>1</th>\n",
       "      <td>56.0</td>\n",
       "      <td>318.0</td>\n",
       "      <td>102.0</td>\n",
       "      <td>1766.0</td>\n",
       "      <td>21470.0</td>\n",
       "      <td>3445.0</td>\n",
       "      <td>115.963147</td>\n",
       "      <td>22.0</td>\n",
       "      <td>22.650000</td>\n",
       "      <td>22.650000</td>\n",
       "      <td>...</td>\n",
       "      <td>22.650000</td>\n",
       "      <td>35401.949404</td>\n",
       "      <td>22.650000</td>\n",
       "      <td>35401.949404</td>\n",
       "      <td>22.650000</td>\n",
       "      <td>35401.949404</td>\n",
       "      <td>22.650000</td>\n",
       "      <td>35401.949404</td>\n",
       "      <td>30.0</td>\n",
       "      <td>29.0</td>\n",
       "    </tr>\n",
       "    <tr>\n",
       "      <th>2</th>\n",
       "      <td>57.0</td>\n",
       "      <td>293.0</td>\n",
       "      <td>111.0</td>\n",
       "      <td>2670.0</td>\n",
       "      <td>20920.0</td>\n",
       "      <td>4449.0</td>\n",
       "      <td>115.963147</td>\n",
       "      <td>22.0</td>\n",
       "      <td>22.650000</td>\n",
       "      <td>22.650000</td>\n",
       "      <td>...</td>\n",
       "      <td>22.650000</td>\n",
       "      <td>35424.599403</td>\n",
       "      <td>22.650000</td>\n",
       "      <td>35424.599403</td>\n",
       "      <td>22.650000</td>\n",
       "      <td>35424.599403</td>\n",
       "      <td>22.650000</td>\n",
       "      <td>35424.599403</td>\n",
       "      <td>29.0</td>\n",
       "      <td>36.0</td>\n",
       "    </tr>\n",
       "    <tr>\n",
       "      <th>3</th>\n",
       "      <td>95.0</td>\n",
       "      <td>364.0</td>\n",
       "      <td>161.0</td>\n",
       "      <td>2768.0</td>\n",
       "      <td>19370.0</td>\n",
       "      <td>4913.0</td>\n",
       "      <td>115.963147</td>\n",
       "      <td>22.0</td>\n",
       "      <td>22.650000</td>\n",
       "      <td>22.650000</td>\n",
       "      <td>...</td>\n",
       "      <td>22.650000</td>\n",
       "      <td>35424.599403</td>\n",
       "      <td>22.650000</td>\n",
       "      <td>35424.599403</td>\n",
       "      <td>22.650000</td>\n",
       "      <td>35424.599403</td>\n",
       "      <td>22.650000</td>\n",
       "      <td>35424.599403</td>\n",
       "      <td>36.0</td>\n",
       "      <td>38.0</td>\n",
       "    </tr>\n",
       "    <tr>\n",
       "      <th>4</th>\n",
       "      <td>90.0</td>\n",
       "      <td>349.0</td>\n",
       "      <td>132.0</td>\n",
       "      <td>3616.0</td>\n",
       "      <td>25338.0</td>\n",
       "      <td>5659.0</td>\n",
       "      <td>115.963147</td>\n",
       "      <td>22.0</td>\n",
       "      <td>22.650000</td>\n",
       "      <td>22.650000</td>\n",
       "      <td>...</td>\n",
       "      <td>22.650000</td>\n",
       "      <td>35424.599403</td>\n",
       "      <td>22.650000</td>\n",
       "      <td>35424.599403</td>\n",
       "      <td>22.650000</td>\n",
       "      <td>35424.599403</td>\n",
       "      <td>22.650000</td>\n",
       "      <td>35424.599403</td>\n",
       "      <td>38.0</td>\n",
       "      <td>42.0</td>\n",
       "    </tr>\n",
       "    <tr>\n",
       "      <th>...</th>\n",
       "      <td>...</td>\n",
       "      <td>...</td>\n",
       "      <td>...</td>\n",
       "      <td>...</td>\n",
       "      <td>...</td>\n",
       "      <td>...</td>\n",
       "      <td>...</td>\n",
       "      <td>...</td>\n",
       "      <td>...</td>\n",
       "      <td>...</td>\n",
       "      <td>...</td>\n",
       "      <td>...</td>\n",
       "      <td>...</td>\n",
       "      <td>...</td>\n",
       "      <td>...</td>\n",
       "      <td>...</td>\n",
       "      <td>...</td>\n",
       "      <td>...</td>\n",
       "      <td>...</td>\n",
       "      <td>...</td>\n",
       "      <td>...</td>\n",
       "    </tr>\n",
       "    <tr>\n",
       "      <th>415</th>\n",
       "      <td>58.0</td>\n",
       "      <td>354.0</td>\n",
       "      <td>95.0</td>\n",
       "      <td>2033.0</td>\n",
       "      <td>18852.0</td>\n",
       "      <td>3417.0</td>\n",
       "      <td>159.394222</td>\n",
       "      <td>25.0</td>\n",
       "      <td>27.379999</td>\n",
       "      <td>27.379999</td>\n",
       "      <td>...</td>\n",
       "      <td>27.379999</td>\n",
       "      <td>42822.318687</td>\n",
       "      <td>27.379999</td>\n",
       "      <td>42822.318687</td>\n",
       "      <td>27.379999</td>\n",
       "      <td>42822.318687</td>\n",
       "      <td>27.379999</td>\n",
       "      <td>42822.318687</td>\n",
       "      <td>3.0</td>\n",
       "      <td>0.0</td>\n",
       "    </tr>\n",
       "    <tr>\n",
       "      <th>416</th>\n",
       "      <td>51.0</td>\n",
       "      <td>344.0</td>\n",
       "      <td>101.0</td>\n",
       "      <td>1390.0</td>\n",
       "      <td>15874.0</td>\n",
       "      <td>2668.0</td>\n",
       "      <td>159.394222</td>\n",
       "      <td>25.0</td>\n",
       "      <td>27.379999</td>\n",
       "      <td>27.379999</td>\n",
       "      <td>...</td>\n",
       "      <td>27.379999</td>\n",
       "      <td>42822.318687</td>\n",
       "      <td>27.379999</td>\n",
       "      <td>42822.318687</td>\n",
       "      <td>27.379999</td>\n",
       "      <td>42822.318687</td>\n",
       "      <td>27.379999</td>\n",
       "      <td>42822.318687</td>\n",
       "      <td>0.0</td>\n",
       "      <td>2.0</td>\n",
       "    </tr>\n",
       "    <tr>\n",
       "      <th>417</th>\n",
       "      <td>29.0</td>\n",
       "      <td>153.0</td>\n",
       "      <td>58.0</td>\n",
       "      <td>952.0</td>\n",
       "      <td>7344.0</td>\n",
       "      <td>1654.0</td>\n",
       "      <td>159.394222</td>\n",
       "      <td>25.0</td>\n",
       "      <td>27.379999</td>\n",
       "      <td>27.379999</td>\n",
       "      <td>...</td>\n",
       "      <td>27.379999</td>\n",
       "      <td>42822.318687</td>\n",
       "      <td>27.379999</td>\n",
       "      <td>42822.318687</td>\n",
       "      <td>27.379999</td>\n",
       "      <td>42822.318687</td>\n",
       "      <td>27.379999</td>\n",
       "      <td>42822.318687</td>\n",
       "      <td>2.0</td>\n",
       "      <td>3.0</td>\n",
       "    </tr>\n",
       "    <tr>\n",
       "      <th>418</th>\n",
       "      <td>59.0</td>\n",
       "      <td>408.0</td>\n",
       "      <td>106.0</td>\n",
       "      <td>1993.0</td>\n",
       "      <td>20724.0</td>\n",
       "      <td>3713.0</td>\n",
       "      <td>159.394222</td>\n",
       "      <td>25.0</td>\n",
       "      <td>27.379999</td>\n",
       "      <td>27.379999</td>\n",
       "      <td>...</td>\n",
       "      <td>27.379999</td>\n",
       "      <td>42822.318687</td>\n",
       "      <td>27.379999</td>\n",
       "      <td>42822.318687</td>\n",
       "      <td>27.379999</td>\n",
       "      <td>42822.318687</td>\n",
       "      <td>27.379999</td>\n",
       "      <td>42822.318687</td>\n",
       "      <td>3.0</td>\n",
       "      <td>3.0</td>\n",
       "    </tr>\n",
       "    <tr>\n",
       "      <th>419</th>\n",
       "      <td>51.0</td>\n",
       "      <td>362.0</td>\n",
       "      <td>90.0</td>\n",
       "      <td>1669.0</td>\n",
       "      <td>18974.0</td>\n",
       "      <td>2825.0</td>\n",
       "      <td>159.394222</td>\n",
       "      <td>25.0</td>\n",
       "      <td>27.379999</td>\n",
       "      <td>27.379999</td>\n",
       "      <td>...</td>\n",
       "      <td>27.379999</td>\n",
       "      <td>42822.318687</td>\n",
       "      <td>27.379999</td>\n",
       "      <td>42822.318687</td>\n",
       "      <td>27.379999</td>\n",
       "      <td>42822.318687</td>\n",
       "      <td>27.379999</td>\n",
       "      <td>42822.318687</td>\n",
       "      <td>3.0</td>\n",
       "      <td>0.0</td>\n",
       "    </tr>\n",
       "  </tbody>\n",
       "</table>\n",
       "<p>420 rows × 101 columns</p>\n",
       "</div>"
      ],
      "text/plain": [
       "     MaxHourMinIntensity_t-2  SumMinIntensity_t-2  SumMinIntensityTop2Hr_t-2  \\\n",
       "0                        0.0                  0.0                        0.0   \n",
       "1                       56.0                318.0                      102.0   \n",
       "2                       57.0                293.0                      111.0   \n",
       "3                       95.0                364.0                      161.0   \n",
       "4                       90.0                349.0                      132.0   \n",
       "..                       ...                  ...                        ...   \n",
       "415                     58.0                354.0                       95.0   \n",
       "416                     51.0                344.0                      101.0   \n",
       "417                     29.0                153.0                       58.0   \n",
       "418                     59.0                408.0                      106.0   \n",
       "419                     51.0                362.0                       90.0   \n",
       "\n",
       "     MaxHourSteps_t-2  SumSteps_t-2  SumStepsTop2Hr_t-2  WeightPounds_t-2  \\\n",
       "0               143.0       13158.0               283.0        115.963147   \n",
       "1              1766.0       21470.0              3445.0        115.963147   \n",
       "2              2670.0       20920.0              4449.0        115.963147   \n",
       "3              2768.0       19370.0              4913.0        115.963147   \n",
       "4              3616.0       25338.0              5659.0        115.963147   \n",
       "..                ...           ...                 ...               ...   \n",
       "415            2033.0       18852.0              3417.0        159.394222   \n",
       "416            1390.0       15874.0              2668.0        159.394222   \n",
       "417             952.0        7344.0              1654.0        159.394222   \n",
       "418            1993.0       20724.0              3713.0        159.394222   \n",
       "419            1669.0       18974.0              2825.0        159.394222   \n",
       "\n",
       "     Fat_t-2    BMI_t-2  AvgTotalSteps_t-2  ...  AvgValue_t-1  SumValue_t-1  \\\n",
       "0       22.0  22.650000          22.650000  ...     22.650000  35424.599403   \n",
       "1       22.0  22.650000          22.650000  ...     22.650000  35401.949404   \n",
       "2       22.0  22.650000          22.650000  ...     22.650000  35424.599403   \n",
       "3       22.0  22.650000          22.650000  ...     22.650000  35424.599403   \n",
       "4       22.0  22.650000          22.650000  ...     22.650000  35424.599403   \n",
       "..       ...        ...                ...  ...           ...           ...   \n",
       "415     25.0  27.379999          27.379999  ...     27.379999  42822.318687   \n",
       "416     25.0  27.379999          27.379999  ...     27.379999  42822.318687   \n",
       "417     25.0  27.379999          27.379999  ...     27.379999  42822.318687   \n",
       "418     25.0  27.379999          27.379999  ...     27.379999  42822.318687   \n",
       "419     25.0  27.379999          27.379999  ...     27.379999  42822.318687   \n",
       "\n",
       "     AvgStepTotal_t-1  SumStepTotal_t-1  AvgTotalIntensity_t-1  \\\n",
       "0           22.650000      35424.599403              22.650000   \n",
       "1           22.650000      35401.949404              22.650000   \n",
       "2           22.650000      35424.599403              22.650000   \n",
       "3           22.650000      35424.599403              22.650000   \n",
       "4           22.650000      35424.599403              22.650000   \n",
       "..                ...               ...                    ...   \n",
       "415         27.379999      42822.318687              27.379999   \n",
       "416         27.379999      42822.318687              27.379999   \n",
       "417         27.379999      42822.318687              27.379999   \n",
       "418         27.379999      42822.318687              27.379999   \n",
       "419         27.379999      42822.318687              27.379999   \n",
       "\n",
       "     SumTotalIntensity_t-1  AvgAverageIntensity_t-1  SumAverageIntensity_t-1  \\\n",
       "0             35424.599403                22.650000             35424.599403   \n",
       "1             35401.949404                22.650000             35401.949404   \n",
       "2             35424.599403                22.650000             35424.599403   \n",
       "3             35424.599403                22.650000             35424.599403   \n",
       "4             35424.599403                22.650000             35424.599403   \n",
       "..                     ...                      ...                      ...   \n",
       "415           42822.318687                27.379999             42822.318687   \n",
       "416           42822.318687                27.379999             42822.318687   \n",
       "417           42822.318687                27.379999             42822.318687   \n",
       "418           42822.318687                27.379999             42822.318687   \n",
       "419           42822.318687                27.379999             42822.318687   \n",
       "\n",
       "     VeryActiveMinutes_t-1  VeryActiveMinutes  \n",
       "0                     21.0               30.0  \n",
       "1                     30.0               29.0  \n",
       "2                     29.0               36.0  \n",
       "3                     36.0               38.0  \n",
       "4                     38.0               42.0  \n",
       "..                     ...                ...  \n",
       "415                    3.0                0.0  \n",
       "416                    0.0                2.0  \n",
       "417                    2.0                3.0  \n",
       "418                    3.0                3.0  \n",
       "419                    3.0                0.0  \n",
       "\n",
       "[420 rows x 101 columns]"
      ]
     },
     "execution_count": 3,
     "metadata": {},
     "output_type": "execute_result"
    }
   ],
   "source": [
    "dataset_df = pd.read_csv(\"dataset.csv\")\n",
    "dataset_df"
   ]
  },
  {
   "cell_type": "code",
   "execution_count": 4,
   "id": "2ea8c885",
   "metadata": {},
   "outputs": [
    {
     "data": {
      "image/png": "[encoded data removed]",
      "text/plain": [
       "<Figure size 432x288 with 1 Axes>"
      ]
     },
     "metadata": {
      "image/png": {
       "height": 277,
       "width": 388
      },
      "needs_background": "light"
     },
     "output_type": "display_data"
    }
   ],
   "source": [
    "sns.histplot(dataset_df[\"VeryActiveMinutes\"])\n",
    "\n",
    "plt.title(\"Target Distribution: VeryActiveMinutes\")\n",
    "plt.xlim(0, 75)\n",
    "plt.show()"
   ]
  },
  {
   "cell_type": "code",
   "execution_count": 5,
   "id": "e00655c6",
   "metadata": {},
   "outputs": [
    {
     "data": {
      "text/plain": [
       "count    420.000000\n",
       "mean      11.023810\n",
       "std       19.498348\n",
       "min        0.000000\n",
       "25%        0.000000\n",
       "50%        0.000000\n",
       "75%       16.000000\n",
       "max      186.000000\n",
       "Name: VeryActiveMinutes, dtype: float64"
      ]
     },
     "execution_count": 5,
     "metadata": {},
     "output_type": "execute_result"
    }
   ],
   "source": [
    "dataset_df[\"VeryActiveMinutes\"].describe()"
   ]
  },
  {
   "cell_type": "code",
   "execution_count": 6,
   "id": "a2079dd6",
   "metadata": {},
   "outputs": [
    {
     "data": {
      "text/plain": [
       "379.2803854875261"
      ]
     },
     "execution_count": 6,
     "metadata": {},
     "output_type": "execute_result"
    }
   ],
   "source": [
    "# Squared Error if Just Predicting the Mean\n",
    "sum((dataset_df[\"VeryActiveMinutes\"] - dataset_df[\"VeryActiveMinutes\"].mean()) ** 2) / len(dataset_df[\"VeryActiveMinutes\"])"
   ]
  },
  {
   "cell_type": "markdown",
   "id": "fe148e0d",
   "metadata": {},
   "source": [
    "# Linear Regression"
   ]
  },
  {
   "cell_type": "code",
   "execution_count": 7,
   "id": "9b255955",
   "metadata": {},
   "outputs": [],
   "source": [
    "from sklearn.linear_model import LinearRegression, RidgeCV, LassoCV\n",
    "from sklearn.feature_selection import RFECV\n",
    "from sklearn.preprocessing import StandardScaler\n",
    "from sklearn.model_selection import train_test_split\n",
    "from sklearn.metrics import mean_squared_error\n",
    "from scipy import stats"
   ]
  },
  {
   "cell_type": "code",
   "execution_count": 8,
   "id": "ad5f54a9",
   "metadata": {},
   "outputs": [
    {
     "name": "stdout",
     "output_type": "stream",
     "text": [
      "Mean Squared Error: 304.82\n",
      "t-statistics: [-0.02705363  0.10319186 -0.21962301 -0.36785918  0.00337365 -0.35565478\n",
      " -0.44057845  1.3059143  -0.52610787 -0.52610787  0.98043598 -0.52610787\n",
      "  0.98043598 -0.52610787  0.98043598 -0.52610787  0.98043598 -0.52610787\n",
      "  0.98043598 -0.52610787  0.98043598 -0.52610787  0.98043598 -0.52610787\n",
      "  0.98043598 -0.52610787  0.98043598 -0.52610787  0.98043598 -0.52610787\n",
      "  0.98043598 -0.52610787  0.98043598 -0.52610787  0.98043598 -0.52610787\n",
      "  0.98043598 -0.52610787  0.98043598 -0.52610787  0.98043598 -0.52610787\n",
      "  0.98043598 -0.52610787  0.98043598 -0.52610787  0.98043598 -0.52610787\n",
      "  0.98043598  1.34344999  1.21951535  0.27340038  0.95538112  1.30207333\n",
      "  0.33906247  1.09234088 -0.72342003  0.94608401 -0.79031312 -0.79031312\n",
      "  0.28532664 -0.79031312  0.28532664 -0.79031312  0.28532664 -0.79031312\n",
      "  0.28532664 -0.79031312  0.28532664 -0.79031312  0.28532664 -0.79031312\n",
      "  0.28532664 -0.79031312  0.28532664 -0.79031312  0.28532664 -0.79031312\n",
      "  0.28532664 -0.79031312  0.28532664 -0.79031312  0.28532664 -0.79031312\n",
      "  0.28532664 -0.79031312  0.28532664 -0.79031312  0.28532664 -0.79031312\n",
      "  0.28532664 -0.79031312  0.28532664 -0.79031312  0.28532664 -0.79031312\n",
      "  0.28532664 -0.79031312  0.28532664  0.63898843]\n",
      "p-values: [0.97842987 0.91786019 0.82627198 0.71316443 0.99730983 0.72227852\n",
      " 0.65974596 0.19229992 0.59909228 0.59909228 0.32743807 0.59909228\n",
      " 0.32743807 0.59909228 0.32743807 0.59909228 0.32743807 0.59909228\n",
      " 0.32743807 0.59909228 0.32743807 0.59909228 0.32743807 0.59909228\n",
      " 0.32743807 0.59909228 0.32743807 0.59909228 0.32743807 0.59909228\n",
      " 0.32743807 0.59909228 0.32743807 0.59909228 0.32743807 0.59909228\n",
      " 0.32743807 0.59909228 0.32743807 0.59909228 0.32743807 0.59909228\n",
      " 0.32743807 0.59909228 0.32743807 0.59909228 0.32743807 0.59909228\n",
      " 0.32743807 0.17985518 0.22333632 0.7846805  0.33993719 0.19360835\n",
      " 0.73473294 0.27531247 0.46982649 0.34465231 0.42979306 0.42979306\n",
      " 0.77553523 0.42979306 0.77553523 0.42979306 0.77553523 0.42979306\n",
      " 0.77553523 0.42979306 0.77553523 0.42979306 0.77553523 0.42979306\n",
      " 0.77553523 0.42979306 0.77553523 0.42979306 0.77553523 0.42979306\n",
      " 0.77553523 0.42979306 0.77553523 0.42979306 0.77553523 0.42979306\n",
      " 0.77553523 0.42979306 0.77553523 0.42979306 0.77553523 0.42979306\n",
      " 0.77553523 0.42979306 0.77553523 0.42979306 0.77553523 0.42979306\n",
      " 0.77553523 0.42979306 0.77553523 0.52318044]\n",
      "Best alpha for regularization: 100.0\n"
     ]
    }
   ],
   "source": [
    "# Separate features and target\n",
    "X = dataset_df.drop(columns=['VeryActiveMinutes'])\n",
    "y = dataset_df['VeryActiveMinutes']\n",
    "\n",
    "# Normalize the features\n",
    "scaler = StandardScaler()\n",
    "X_normalized = scaler.fit_transform(X)\n",
    "\n",
    "# Split the dataset into train and test sets\n",
    "X_train, X_test, y_train, y_test = train_test_split(X_normalized, y, test_size=0.2, random_state=42)\n",
    "\n",
    "# Perform linear regression\n",
    "lr = LinearRegression()\n",
    "lr.fit(X_train, y_train)\n",
    "\n",
    "# Predict and compute the performance\n",
    "y_pred = lr.predict(X_test)\n",
    "mse = mean_squared_error(y_test, y_pred)\n",
    "print(f\"Mean Squared Error: {mse:.2f}\")\n",
    "\n",
    "# Compute t-statistics for the features\n",
    "t_stats, p_values = stats.ttest_ind(X_train, X_test)\n",
    "print(f\"t-statistics: {t_stats}\")\n",
    "print(f\"p-values: {p_values}\")\n",
    "\n",
    "# Test if regularization is necessary using RidgeCV\n",
    "ridge_cv = RidgeCV(alphas=np.logspace(-6, 6, 13), cv=5)\n",
    "ridge_cv.fit(X_train, y_train)\n",
    "\n",
    "print(f\"Best alpha for regularization: {ridge_cv.alpha_}\")"
   ]
  },
  {
   "cell_type": "markdown",
   "id": "bd7ff369",
   "metadata": {},
   "source": [
    "# Feature Importance Via RFE on Linear Regression Model"
   ]
  },
  {
   "cell_type": "code",
   "execution_count": 9,
   "id": "4d1434d8",
   "metadata": {},
   "outputs": [
    {
     "name": "stdout",
     "output_type": "stream",
     "text": [
      "Selected Features and Their Ranks:\n",
      "                    Feature  Rank\n",
      "97  AvgAverageIntensity_t-1     1\n",
      "56         WeightPounds_t-1     1\n",
      "6          WeightPounds_t-2     2\n",
      "47  AvgAverageIntensity_t-2     3\n",
      "89    AvgTotalTimeInBed_t-1     4\n",
      "\n",
      "Top 5 Most Important Features (RFE):\n",
      "['AvgAverageIntensity_t-1' 'WeightPounds_t-1' 'WeightPounds_t-2'\n",
      " 'AvgAverageIntensity_t-2' 'AvgTotalTimeInBed_t-1']\n",
      "\n",
      "Top 5 Most Important Features (Lasso):\n",
      "['Fat_t-1' 'VeryActiveMinutes_t-1' 'MaxHourMinIntensity_t-1'\n",
      " 'MaxHourMinIntensity_t-2' 'VeryActiveMinutes_t-2']\n"
     ]
    }
   ],
   "source": [
    "X = dataset_df.drop(columns=['VeryActiveMinutes'])\n",
    "y = dataset_df['VeryActiveMinutes']\n",
    "\n",
    "# Normalize the features\n",
    "scaler = StandardScaler()\n",
    "X_normalized = scaler.fit_transform(X)\n",
    "\n",
    "# Split the dataset into train and test sets\n",
    "X_train, X_test, y_train, y_test = train_test_split(X_normalized, y, test_size=0.2, random_state=42)\n",
    "\n",
    "# Perform Recursive Feature Elimination with cross-validation\n",
    "estimator = LinearRegression()\n",
    "rfe_cv = RFECV(estimator, step=1, cv=5, scoring='neg_mean_squared_error')\n",
    "rfe_cv.fit(X_train, y_train)\n",
    "\n",
    "# Get the selected features and their ranks\n",
    "selected_features = pd.DataFrame({'Feature': X.columns, 'Rank': rfe_cv.ranking_}).sort_values(by='Rank')\n",
    "print(\"Selected Features and Their Ranks:\")\n",
    "print(selected_features.head())\n",
    "\n",
    "# Train a Lasso model for comparison\n",
    "lasso_cv = LassoCV(cv=5, random_state=42)\n",
    "lasso_cv.fit(X_train, y_train)\n",
    "\n",
    "# Get the Lasso coefficients\n",
    "lasso_coefs = pd.DataFrame({'Feature': X.columns, 'Coefficient': lasso_cv.coef_})\n",
    "lasso_coefs['Absolute_Coefficient'] = np.abs(lasso_coefs['Coefficient'])\n",
    "lasso_coefs = lasso_coefs.sort_values(by='Absolute_Coefficient', ascending=False)\n",
    "\n",
    "# Report the top 5 most important features\n",
    "print(\"\\nTop 5 Most Important Features (RFE):\")\n",
    "print(selected_features.head(5)['Feature'].values)\n",
    "\n",
    "print(\"\\nTop 5 Most Important Features (Lasso):\")\n",
    "print(lasso_coefs.head(5)['Feature'].values)"
   ]
  },
  {
   "cell_type": "code",
   "execution_count": 18,
   "id": "0e16d39d",
   "metadata": {},
   "outputs": [
    {
     "data": {
      "image/png": "[encoded data removed]",
      "text/plain": [
       "<Figure size 432x288 with 1 Axes>"
      ]
     },
     "metadata": {
      "image/png": {
       "height": 279,
       "width": 424
      }
     },
     "output_type": "display_data"
    }
   ],
   "source": [
    "# Get the top 5 most important features from RFE\n",
    "top_features_rfe = selected_features.head(5)\n",
    "fig, ax = plt.subplots()\n",
    "# Plot the top 5 most important features from RFE\n",
    "plt.barh(top_features_rfe['Feature'], top_features_rfe['Rank'])\n",
    "plt.xlabel('Importance (Rank)')\n",
    "plt.ylabel('Feature')\n",
    "plt.title('Top 5 Most Important Features (RFE)')\n",
    "# set the background color to white\n",
    "fig.patch.set_facecolor('white')\n",
    "ax.set_facecolor('white')\n",
    "\n",
    "# set the tight layout\n",
    "fig.tight_layout()\n",
    "\n",
    "# save the figure as a PNG file with white background\n",
    "fig.savefig('feature_importance.png', dpi=300, facecolor='white', bbox_inches='tight')\n",
    "plt.show()"
   ]
  },
  {
   "cell_type": "markdown",
   "id": "69f7ca80",
   "metadata": {},
   "source": [
    "# Feature Importance Via Shapley Values"
   ]
  },
  {
   "cell_type": "code",
   "execution_count": 10,
   "id": "7a142812",
   "metadata": {},
   "outputs": [],
   "source": [
    "import shap\n",
    "import matplotlib.pyplot as plt"
   ]
  },
  {
   "cell_type": "code",
   "execution_count": 12,
   "id": "2638b4c0",
   "metadata": {},
   "outputs": [
    {
     "name": "stdout",
     "output_type": "stream",
     "text": [
      "Top 5 Most Important Features:\n",
      "                            Feature  Importance\n",
      "6                  WeightPounds_t-2  369.062258\n",
      "56                 WeightPounds_t-1  355.911419\n",
      "11             AvgTotalDistance_t-2   16.504635\n",
      "15  AvgLoggedActivitiesDistance_t-2   16.504635\n",
      "19  AvgModeratelyActiveDistance_t-2   16.504635\n"
     ]
    }
   ],
   "source": [
    "# Separate features and target\n",
    "X = dataset_df.drop(columns=['VeryActiveMinutes'])\n",
    "y = dataset_df['VeryActiveMinutes']\n",
    "\n",
    "# Normalize the features\n",
    "scaler = StandardScaler()\n",
    "X_normalized = scaler.fit_transform(X)\n",
    "\n",
    "# Split the dataset into train and test sets\n",
    "X_train, X_test, y_train, y_test = train_test_split(X_normalized, y, test_size=0.2, random_state=42)\n",
    "\n",
    "# Train a linear regression model\n",
    "lr = LinearRegression()\n",
    "lr.fit(X_train, y_train)\n",
    "\n",
    "# Use SHAP to explain the linear model\n",
    "explainer = shap.Explainer(lr, X_train)\n",
    "shap_values = explainer(X_test)\n",
    "\n",
    "# Get the mean absolute SHAP values for each feature\n",
    "mean_abs_shap_values = np.mean(np.abs(shap_values.values), axis=0)\n",
    "feature_importance = pd.DataFrame({'Feature': X.columns, 'Importance': mean_abs_shap_values}).sort_values(by='Importance', ascending=False)\n",
    "\n",
    "# Report the top 5 most important features\n",
    "print(\"Top 5 Most Important Features:\")\n",
    "print(feature_importance.head(5))"
   ]
  },
  {
   "cell_type": "code",
   "execution_count": 13,
   "id": "0e006507",
   "metadata": {},
   "outputs": [
    {
     "data": {
      "image/png": "[encoded data removed]",
      "text/plain": [
       "<Figure size 432x288 with 1 Axes>"
      ]
     },
     "metadata": {
      "image/png": {
       "height": 277,
       "width": 538
      },
      "needs_background": "light"
     },
     "output_type": "display_data"
    }
   ],
   "source": [
    "# Plot the top 5 most important features\n",
    "top_features = feature_importance.head(5)\n",
    "plt.barh(top_features['Feature'][::-1], top_features['Importance'][::-1])\n",
    "plt.xlabel('SHAP Value (Importance)')\n",
    "plt.ylabel('Feature')\n",
    "plt.title('Top 5 Most Important Features')\n",
    "plt.show()"
   ]
  },
  {
   "cell_type": "markdown",
   "id": "497ad204",
   "metadata": {},
   "source": [
    "# Discussion of RFE vs. Shapley Values for Feature Importance\n",
    "Recursive Feature Elimination (RFE) and Shapley Values serve different purposes when it comes to analyzing feature importance. RFE is a feature selection technique that iteratively removes the least important features from the model and aims to find the optimal subset of features that provides the best model performance. In contrast, Shapley Values provide an explanation for the model's predictions and quantify the contribution of each feature for individual instances.\n",
    "\n",
    "In a linear regression setting, RFE might be a better method for analyzing feature importance for the following reasons:\n",
    "\n",
    "Interpretability: RFE directly uses the model's coefficients to rank the features, which is easily interpretable in a linear regression context. The magnitude of the coefficients directly indicates the importance of the features in the model. Shapley Values, on the other hand, estimate the average contribution of each feature across all possible feature combinations, which might be harder to interpret in a linear regression context.\n",
    "\n",
    "Model simplification: RFE aims to find the optimal subset of features that provides the best model performance, effectively simplifying the model by reducing its complexity. Shapley Values do not inherently focus on simplifying the model, as they provide importance values for all features without selecting a subset."
   ]
  },
  {
   "cell_type": "markdown",
   "id": "e5bf0661",
   "metadata": {},
   "source": [
    "# Feature Importance Via Random Forest"
   ]
  },
  {
   "cell_type": "code",
   "execution_count": 20,
   "id": "0a13ab0e",
   "metadata": {},
   "outputs": [],
   "source": [
    "from sklearn.ensemble import RandomForestRegressor"
   ]
  },
  {
   "cell_type": "code",
   "execution_count": 25,
   "id": "ee1547c5",
   "metadata": {},
   "outputs": [
    {
     "name": "stdout",
     "output_type": "stream",
     "text": [
      "Top 5 Most Important Features (Random Forest):\n",
      "                    Feature  Importance\n",
      "99    VeryActiveMinutes_t-1    0.337481\n",
      "4              SumSteps_t-2    0.058982\n",
      "0   MaxHourMinIntensity_t-2    0.044080\n",
      "54             SumSteps_t-1    0.043809\n",
      "3          MaxHourSteps_t-2    0.042233\n"
     ]
    }
   ],
   "source": [
    "# Separate features and target\n",
    "X = dataset_df.drop(columns=['VeryActiveMinutes'])\n",
    "y = dataset_df['VeryActiveMinutes']\n",
    "\n",
    "# Normalize the features\n",
    "scaler = StandardScaler()\n",
    "X_normalized = scaler.fit_transform(X)\n",
    "\n",
    "# Split the dataset into train and test sets\n",
    "X_train, X_test, y_train, y_test = train_test_split(X_normalized, y, test_size=0.2, random_state=42)\n",
    "\n",
    "# Train a Random Forest regressor\n",
    "rf = RandomForestRegressor(n_estimators=100, random_state=42)\n",
    "rf.fit(X_train, y_train)\n",
    "\n",
    "# Get feature importances\n",
    "feature_importances = pd.DataFrame({'Feature': X.columns, 'Importance': rf.feature_importances_}).sort_values(by='Importance', ascending=False)\n",
    "\n",
    "# Report the top 5 most important features\n",
    "print(\"Top 5 Most Important Features (Random Forest):\")\n",
    "print(feature_importances.head(5))"
   ]
  },
  {
   "cell_type": "code",
   "execution_count": 26,
   "id": "56b3c0b9",
   "metadata": {},
   "outputs": [
    {
     "data": {
      "image/png": "[encoded data removed]",
      "text/plain": [
       "<Figure size 432x288 with 1 Axes>"
      ]
     },
     "metadata": {
      "image/png": {
       "height": 277,
       "width": 502
      },
      "needs_background": "light"
     },
     "output_type": "display_data"
    }
   ],
   "source": [
    "# Plot the top 5 most important features\n",
    "top_features_rf = feature_importances.head(5)\n",
    "plt.barh(top_features_rf['Feature'][::-1], top_features_rf['Importance'][::-1])\n",
    "plt.xlabel('Feature Importance')\n",
    "plt.ylabel('Feature')\n",
    "plt.title('Top 5 Most Important Features (Random Forest)')\n",
    "plt.show()"
   ]
  },
  {
   "cell_type": "markdown",
   "id": "96e88452",
   "metadata": {},
   "source": [
    "# Causal Inference"
   ]
  },
  {
   "cell_type": "code",
   "execution_count": 30,
   "id": "9d6ce83b",
   "metadata": {},
   "outputs": [],
   "source": [
    "from causalml.inference.meta import SLearner"
   ]
  },
  {
   "cell_type": "code",
   "execution_count": 35,
   "id": "467125c6",
   "metadata": {},
   "outputs": [
    {
     "name": "stdout",
     "output_type": "stream",
     "text": [
      "Estimated causal effect of VeryActiveMinutes_t-1 on VeryActiveMinutes: None\n",
      "Estimated causal effect of AvgAverageIntensity_t-1 on VeryActiveMinutes: None\n"
     ]
    }
   ],
   "source": [
    "treatment_rf = 'VeryActiveMinutes_t-1'\n",
    "treatment_rfe = 'AvgAverageIntensity_t-1'\n",
    "outcome = 'VeryActiveMinutes'\n",
    "\n",
    "# Define treatment and control groups\n",
    "treatment_group = dataset_df[treatment_rf]\n",
    "\n",
    "# Prepare dataset for causal inference\n",
    "X = dataset_df.drop(columns=[outcome, treatment_rf, treatment_rfe]).values\n",
    "y = dataset_df[outcome].values\n",
    "treatment = treatment_group.values\n",
    "\n",
    "# Split data into training and testing sets\n",
    "X_train, X_test, y_train, y_test, treatment_train, treatment_test = train_test_split(\n",
    "    X, y, treatment, test_size=0.2, random_state=42\n",
    ")\n",
    "\n",
    "# Instantiate the S-Learner with a linear regression model\n",
    "learner_s = SLearner(LinearRegression())\n",
    "\n",
    "# Fit the model\n",
    "learner_s.fit(X_train, y_train, treatment_train)\n",
    "\n",
    "# Estimate the average treatment effect on the treated (ATT)\n",
    "att = learner_s.estimate_ate(X_test, y_test, treatment_test)[1]\n",
    "print(f\"Estimated causal effect of {treatment_rf} on {outcome}: {att}\")\n",
    "\n",
    "# Repeat the analysis for the second treatment variable\n",
    "treatment_group = df[treatment_rfe]\n",
    "treatment = treatment_group.values\n",
    "X_train, X_test, y_train, y_test, treatment_train, treatment_test = train_test_split(\n",
    "    X, y, treatment, test_size=0.2, random_state=42\n",
    ")\n",
    "\n",
    "learner_s.fit(X_train, y_train, treatment_train)\n",
    "att = learner_s.estimate_ate(X_test, y_test, treatment_test)[1]\n",
    "print(f\"Estimated causal effect of {treatment_rfe} on {outcome}: {att}\")"
   ]
  },
  {
   "cell_type": "markdown",
   "id": "27b26da7",
   "metadata": {},
   "source": [
    "# Visualize Causal Graph"
   ]
  },
  {
   "cell_type": "code",
   "execution_count": null,
   "id": "0605f319",
   "metadata": {},
   "outputs": [],
   "source": [
    "import networkx as nx"
   ]
  },
  {
   "cell_type": "code",
   "execution_count": null,
   "id": "23d7ebc0",
   "metadata": {},
   "outputs": [],
   "source": [
    "# Parse the graph string to create a directed graph\n",
    "graph = nx.DiGraph(nx.nx_pydot.from_pydot(causal_graph))\n",
    "\n",
    "# Draw the graph with labels\n",
    "pos = nx.spring_layout(graph)\n",
    "nx.draw(graph, pos, with_labels=True, node_color=\"skyblue\", edge_color=\"grey\", font_size=10, node_size=2000, arrows=True)\n",
    "\n",
    "# Display the graph\n",
    "plt.show()"
   ]
  }
 ],
 "metadata": {
  "kernelspec": {
   "display_name": "Python 3 (ipykernel)",
   "language": "python",
   "name": "python3"
  },
  "language_info": {
   "codemirror_mode": {
    "name": "ipython",
    "version": 3
   },
   "file_extension": ".py",
   "mimetype": "text/x-python",
   "name": "python",
   "nbconvert_exporter": "python",
   "pygments_lexer": "ipython3",
   "version": "3.8.9"
  }
 },
 "nbformat": 4,
 "nbformat_minor": 5
}
